{
  "nbformat": 4,
  "nbformat_minor": 0,
  "metadata": {
    "colab": {
      "name": "dogaldilislemeson.ipynb",
      "provenance": [],
      "collapsed_sections": []
    },
    "kernelspec": {
      "name": "python3",
      "display_name": "Python 3"
    },
    "language_info": {
      "name": "python"
    },
    "accelerator": "GPU"
  },
  "cells": [
    {
      "cell_type": "markdown",
      "metadata": {
        "id": "SdF2mTQGsezf"
      },
      "source": [
        "# Bağlantı"
      ]
    },
    {
      "cell_type": "code",
      "metadata": {
        "colab": {
          "base_uri": "https://localhost:8080/"
        },
        "id": "g6I9Y1YGsodP",
        "outputId": "330b8a4a-5daa-46ca-8c27-1d24982ade0e"
      },
      "source": [
        "!apt-get install -y -qq software-properties-common python-software-properties module-init-tools\n",
        "!add-apt-repository -y ppa:alessandro-strada/ppa 2>&1 > /dev/null\n",
        "!apt-get update -qq 2>&1 > /dev/null\n",
        "!apt-get -y install -qq google-drive-ocamlfuse fuse\n",
        "from google.colab import auth\n",
        "auth.authenticate_user()\n",
        "from oauth2client.client import GoogleCredentials\n",
        "creds = GoogleCredentials.get_application_default()\n",
        "import getpass\n",
        "!google-drive-ocamlfuse -headless -id={creds.client_id} -secret={creds.client_secret} < /dev/null 2>&1 | grep URL\n",
        "vcode = getpass.getpass()\n",
        "!echo {vcode} | google-drive-ocamlfuse -headless -id={creds.client_id} -secret={creds.client_secret}"
      ],
      "execution_count": null,
      "outputs": [
        {
          "output_type": "stream",
          "text": [
            "E: Package 'python-software-properties' has no installation candidate\n",
            "Selecting previously unselected package google-drive-ocamlfuse.\n",
            "(Reading database ... 160772 files and directories currently installed.)\n",
            "Preparing to unpack .../google-drive-ocamlfuse_0.7.26-0ubuntu1~ubuntu18.04.1_amd64.deb ...\n",
            "Unpacking google-drive-ocamlfuse (0.7.26-0ubuntu1~ubuntu18.04.1) ...\n",
            "Setting up google-drive-ocamlfuse (0.7.26-0ubuntu1~ubuntu18.04.1) ...\n",
            "Processing triggers for man-db (2.8.3-2ubuntu0.1) ...\n",
            "Please, open the following URL in a web browser: https://accounts.google.com/o/oauth2/auth?client_id=32555940559.apps.googleusercontent.com&redirect_uri=urn%3Aietf%3Awg%3Aoauth%3A2.0%3Aoob&scope=https%3A%2F%2Fwww.googleapis.com%2Fauth%2Fdrive&response_type=code&access_type=offline&approval_prompt=force\n",
            "··········\n",
            "Please, open the following URL in a web browser: https://accounts.google.com/o/oauth2/auth?client_id=32555940559.apps.googleusercontent.com&redirect_uri=urn%3Aietf%3Awg%3Aoauth%3A2.0%3Aoob&scope=https%3A%2F%2Fwww.googleapis.com%2Fauth%2Fdrive&response_type=code&access_type=offline&approval_prompt=force\n",
            "Please enter the verification code: Access token retrieved correctly.\n"
          ],
          "name": "stdout"
        }
      ]
    },
    {
      "cell_type": "code",
      "metadata": {
        "colab": {
          "base_uri": "https://localhost:8080/"
        },
        "id": "t3bTtSCA8SAZ",
        "outputId": "5d92232e-c881-4187-ffba-ad092b776567"
      },
      "source": [
        "!mkdir -p drive\n",
        "!google-drive-ocamlfuse drive\n",
        "!ls"
      ],
      "execution_count": null,
      "outputs": [
        {
          "output_type": "stream",
          "text": [
            "adc.json  drive  sample_data\n"
          ],
          "name": "stdout"
        }
      ]
    },
    {
      "cell_type": "markdown",
      "metadata": {
        "id": "L78U6BLncWVA"
      },
      "source": [
        "# Veri Seti Yükleme"
      ]
    },
    {
      "cell_type": "code",
      "metadata": {
        "id": "bAEGqZflcJD1"
      },
      "source": [
        "import pandas as pd\n",
        "import numpy as np\n",
        "# csv den veri yükleme\n",
        "\n",
        "from openpyxl import Workbook,load_workbook \n",
        "yorumlar = pd.read_excel('/content/drive/Colab Notebooks/trendyolveri/trendyolverislenmis.xlsx')\n",
        "#data = pd.read_csv('/content/drive/Colab Notebooks/hepsiburadaveri/reviews2.txt', delimiter='\\t')\n",
        "\n",
        "#data = data.sample(frac=1).reset_index(drop=True)"
      ],
      "execution_count": null,
      "outputs": []
    },
    {
      "cell_type": "code",
      "metadata": {
        "id": "vJJXUQYuC7F9",
        "colab": {
          "base_uri": "https://localhost:8080/"
        },
        "outputId": "8e9815e2-7107-4f76-e513-47e260de31fa"
      },
      "source": [
        "#filitreleme büyük harf/ küçük harf\n",
        "import re\n",
        "import nltk\n",
        "# gereksiz kelimler çıkarma\n",
        "from nltk.stem.porter import PorterStemmer\n",
        "# ps ingilizce için türkçede deniyeceğim\n",
        "ps = PorterStemmer()\n",
        "nltk.download('stopwords')\n",
        "from nltk.corpus import stopwords\n",
        "yorumdizim=[]\n",
        "for i in range(98): # execelde kolon uzunluğu 98 di\n",
        "    # Yorumlar bizim verilerde ki başlık\n",
        "    data = re.sub('[^a-zA-Z]',' ',yorumlar['Yorumlar'][i])\n",
        "    # Küçük harfe çevirme\n",
        "    data = data.lower()\n",
        "    # listeye çevirme\n",
        "    data=data.split()\n",
        "    # Önemli set ile küme yapıyoruz bunun nedeni aynı ifade birden fazla geçmemesi için\n",
        "    # eğer kelime listede yoksa stemle yani listenin ilk elemanı yap\n",
        "    data = [ps.stem(kelime) for kelime in data if not kelime in set(stopwords.words('turkish'))]\n",
        "    # şunu dene olmazsa\n",
        "    # data = [yorum.stem(kelime) for kelime in data ]\n",
        "    # data değişkenini boşluklarla birleştir\n",
        "    data = ' '.join(data)\n",
        "    yorumdizim.append(data)\n",
        "from sklearn.feature_extraction.text import CountVectorizer\n",
        "cv = CountVectorizer(max_features=2000)\n",
        "#bağımsız değişken\n",
        "X = cv.fit_transform(yorumdizim).toarray()\n",
        "# bağımlı değişken\n",
        "y = yorumlar.iloc[:,1].values # [:,1] bütün satırlar ve 1. kolon\n",
        "#from sklearn.cross_decomposition import train_test_split\n",
        "from sklearn.model_selection import train_test_split\n",
        "# Test ve eğitim için bölme\n",
        "X_train, X_test, y_train, y_test = train_test_split(X, y, test_size=0.20, random_state=0)\n",
        "from sklearn.naive_bayes import MultinomialNB\n",
        "gnb= MultinomialNB()\n",
        "#X_test_counts = count_vect.transform(X_test)\n",
        "#X_test_tfidf = tfidf_transformer.transform(X_test_counts)\n",
        "\n",
        "##from sklearn.naive_bayes import GaussianNB\n",
        "##gnb = GaussianNB()\n",
        "# X_train den y_train i öğren diyeceğiz\n",
        "gnb.fit(X_train,y_train) # fit öğretmek için kullanılır\n",
        "# X_test tahmin et diyeceğiz ve y_test ile karşılaştıracağız\n",
        "y_pred = gnb.predict(X_test) #predict tahmin için kullandık\n",
        "# şimdide gerçek verilerle karşılaştır diyeceğiz\n",
        "from sklearn.metrics import confusion_matrix\n",
        "# başarı oranına bakacağız\n",
        "cm = confusion_matrix(y_test, y_pred)\n",
        "print(cm)\n",
        "\n"
      ],
      "execution_count": null,
      "outputs": [
        {
          "output_type": "stream",
          "text": [
            "[nltk_data] Downloading package stopwords to /root/nltk_data...\n",
            "[nltk_data]   Package stopwords is already up-to-date!\n",
            "[[0 0 0 0 0 0 1 0 0 0 0 0 0 0 0 0 0 0 0 0 0 0 0 0 0 0 0 0 0]\n",
            " [0 0 0 0 0 0 0 0 0 0 0 0 1 0 0 0 0 0 0 0 0 0 0 0 0 0 0 0 0]\n",
            " [0 0 0 0 0 0 0 0 0 0 0 0 0 0 0 0 0 0 0 0 0 1 0 0 0 0 0 0 0]\n",
            " [0 0 0 0 1 0 0 0 0 0 0 0 0 0 0 0 0 0 0 0 0 0 0 0 0 0 0 0 0]\n",
            " [0 0 0 0 0 0 0 0 0 0 0 0 0 0 0 0 0 0 0 0 0 0 0 0 0 0 0 0 0]\n",
            " [0 0 0 0 0 0 0 0 0 0 0 0 0 0 1 0 0 0 0 0 0 0 0 0 0 0 0 0 0]\n",
            " [0 0 0 0 0 0 0 0 0 0 0 0 0 0 0 0 0 0 0 0 0 0 0 0 0 0 0 0 0]\n",
            " [0 0 0 0 0 0 0 0 1 0 0 0 0 0 0 0 0 0 0 0 0 0 0 0 0 0 0 0 0]\n",
            " [0 0 0 0 0 0 0 0 0 0 0 0 0 0 0 0 0 0 0 0 0 0 0 0 0 0 0 0 0]\n",
            " [0 0 0 0 0 0 0 0 0 0 0 0 0 0 0 0 0 0 0 0 1 0 0 0 0 0 0 0 0]\n",
            " [0 0 0 0 0 0 1 0 0 0 0 0 0 0 0 0 0 0 0 0 0 0 0 0 0 0 0 0 0]\n",
            " [0 0 0 0 0 0 0 0 0 0 0 1 0 0 0 0 0 0 0 0 0 0 0 0 0 0 0 0 0]\n",
            " [0 0 0 0 0 0 0 0 0 0 0 0 0 0 0 0 0 0 0 0 0 0 0 0 0 0 0 0 0]\n",
            " [0 0 0 0 0 0 0 0 0 0 0 0 0 0 0 0 0 0 0 0 0 0 0 1 0 0 0 0 0]\n",
            " [0 0 0 0 0 0 0 0 0 0 0 0 0 0 0 0 0 0 0 0 0 0 0 0 0 0 0 0 0]\n",
            " [0 0 0 0 0 0 0 0 0 0 0 0 0 0 0 0 0 0 1 0 0 0 0 0 0 0 0 0 0]\n",
            " [0 0 0 0 0 0 0 0 0 0 0 0 0 0 0 0 0 0 0 0 1 0 0 0 0 0 0 0 0]\n",
            " [0 0 0 0 0 0 0 0 0 0 0 0 0 0 0 0 0 0 0 0 0 0 1 0 0 0 0 0 0]\n",
            " [0 0 0 0 0 0 0 0 0 0 0 0 0 0 0 0 0 0 1 0 0 0 0 0 0 0 0 0 0]\n",
            " [0 0 0 0 0 0 0 0 0 0 0 0 0 0 0 0 0 0 0 0 1 0 0 0 0 0 0 0 0]\n",
            " [0 0 0 0 0 0 0 0 0 0 0 0 0 0 0 0 0 0 0 0 0 0 0 0 0 0 0 0 0]\n",
            " [0 0 0 0 0 0 0 0 0 0 0 0 0 0 0 0 0 0 0 0 0 0 0 0 0 0 0 0 0]\n",
            " [0 0 0 0 0 0 0 0 0 0 0 0 0 0 0 0 0 0 0 0 0 0 0 0 0 0 0 0 0]\n",
            " [0 0 0 0 0 0 0 0 0 0 0 0 0 0 0 0 0 0 0 0 0 0 0 0 0 0 0 0 0]\n",
            " [0 0 0 0 0 0 0 0 0 0 0 0 0 0 0 0 0 0 0 0 1 0 0 0 0 0 0 0 0]\n",
            " [0 0 0 0 0 0 0 0 0 0 0 0 0 0 0 0 0 0 0 0 0 0 1 0 0 0 0 0 0]\n",
            " [0 0 0 0 0 0 0 0 0 0 0 0 0 0 0 0 0 0 0 0 0 0 0 0 0 0 2 0 0]\n",
            " [0 0 0 0 0 0 0 0 0 0 0 0 0 0 0 0 0 0 0 0 0 0 0 0 0 0 0 0 0]\n",
            " [0 0 0 0 0 0 0 0 0 0 0 0 0 0 0 0 0 0 0 0 0 0 0 0 0 0 0 1 0]]\n"
          ],
          "name": "stdout"
        }
      ]
    },
    {
      "cell_type": "code",
      "metadata": {
        "id": "MSMp8pBRcRqo",
        "colab": {
          "base_uri": "https://localhost:8080/",
          "height": 206
        },
        "outputId": "6e7399f9-8497-4f4c-dd1a-fe5f4e88ab78"
      },
      "source": [
        "data.head() #ilk beş girdi görmek için"
      ],
      "execution_count": null,
      "outputs": [
        {
          "output_type": "execute_result",
          "data": {
            "text/html": [
              "<div>\n",
              "<style scoped>\n",
              "    .dataframe tbody tr th:only-of-type {\n",
              "        vertical-align: middle;\n",
              "    }\n",
              "\n",
              "    .dataframe tbody tr th {\n",
              "        vertical-align: top;\n",
              "    }\n",
              "\n",
              "    .dataframe thead th {\n",
              "        text-align: right;\n",
              "    }\n",
              "</style>\n",
              "<table border=\"1\" class=\"dataframe\">\n",
              "  <thead>\n",
              "    <tr style=\"text-align: right;\">\n",
              "      <th></th>\n",
              "      <th>beklentimin altında bir ürün kaliteli değil</th>\n",
              "    </tr>\n",
              "  </thead>\n",
              "  <tbody>\n",
              "    <tr>\n",
              "      <th>0</th>\n",
              "      <td>ford focus 2 aracıma tam oldu fakat ip kısa ka...</td>\n",
              "    </tr>\n",
              "    <tr>\n",
              "      <th>1</th>\n",
              "      <td>gelen ürün görseldeki gibi değildi,beyaz makya...</td>\n",
              "    </tr>\n",
              "    <tr>\n",
              "      <th>2</th>\n",
              "      <td>ürün güzel şık. resimdeki renkler ile ilgisi y...</td>\n",
              "    </tr>\n",
              "    <tr>\n",
              "      <th>3</th>\n",
              "      <td>arka koltuk icin ford fiestaya eni dar geldi.</td>\n",
              "    </tr>\n",
              "    <tr>\n",
              "      <th>4</th>\n",
              "      <td>ürün yeni aldım. birkaç kez kullandım. yumurta...</td>\n",
              "    </tr>\n",
              "  </tbody>\n",
              "</table>\n",
              "</div>"
            ],
            "text/plain": [
              "         beklentimin altında bir ürün kaliteli değil\n",
              "0  ford focus 2 aracıma tam oldu fakat ip kısa ka...\n",
              "1  gelen ürün görseldeki gibi değildi,beyaz makya...\n",
              "2  ürün güzel şık. resimdeki renkler ile ilgisi y...\n",
              "3      arka koltuk icin ford fiestaya eni dar geldi.\n",
              "4  ürün yeni aldım. birkaç kez kullandım. yumurta..."
            ]
          },
          "metadata": {
            "tags": []
          },
          "execution_count": 9
        }
      ]
    },
    {
      "cell_type": "markdown",
      "metadata": {
        "id": "4CEUUGo6dMKV"
      },
      "source": [
        "Metinlerin pozitif, negatif ve nötr durumları"
      ]
    },
    {
      "cell_type": "code",
      "metadata": {
        "id": "EVcmvd5Hc5zo",
        "colab": {
          "base_uri": "https://localhost:8080/"
        },
        "outputId": "db609312-a363-4f97-bbb7-8b15cb4c2702"
      },
      "source": [
        "data['beklentimin altında bir ürün kaliteli değil'].value_counts()\n"
      ],
      "execution_count": null,
      "outputs": [
        {
          "output_type": "execute_result",
          "data": {
            "text/plain": [
              "fena değil                                                                                                                                                                  3\n",
              "fena deyil                                                                                                                                                                  3\n",
              "fena degil                                                                                                                                                                  2\n",
              "iyi                                                                                                                                                                         2\n",
              "güzel                                                                                                                                                                       2\n",
              "                                                                                                                                                                           ..\n",
              "bu kitabı okumaya başladığımda bana birşeyler katacağını sanıyordum. birşey katmadığı gibi zamanı çaldı. tavsiye etmem..                                                    1\n",
              "montaj yaparken bi̇rleşti̇rme noktasindan koptu. geldi̇ği̇ gün çöpe gi̇tti̇                                                                                                 1\n",
              "ürün fena değil ben memnunum, okuma hızı hd -tune: arada bir kaç milisaniye 100mb/s çıkıyor ama kalıcı değil maalesef ortalama uzun vadede 40mb/s yazma 20-25mb/s arası.    1\n",
              "bu yüzden hiç beğenmedim zemine temas etmediği halde mouse iconu hareket ediyor.                                                                                            1\n",
              "çubukların boyları çok ufak. sultan papağanım severek yedi.                                                                                                                 1\n",
              "Name: beklentimin altında bir ürün kaliteli değil, Length: 14855, dtype: int64"
            ]
          },
          "metadata": {
            "tags": []
          },
          "execution_count": 12
        }
      ]
    },
    {
      "cell_type": "markdown",
      "metadata": {
        "id": "BKBQ93IgdmJX"
      },
      "source": [
        "# Veri Seti Önişleme"
      ]
    },
    {
      "cell_type": "code",
      "metadata": {
        "id": "sFmukhePdwr7",
        "colab": {
          "base_uri": "https://localhost:8080/"
        },
        "outputId": "da20b12b-09a8-4c77-efa6-2a1c689e6cb4"
      },
      "source": [
        "import string #noktalama işaretleri\n",
        "import re\n",
        "import nltk #etkisiz kelimeler\n",
        "from nltk.corpus import stopwords\n",
        "nltk.download('stopwords') # önemliiiii\n",
        "noktalama = string.punctuation\n",
        "etkisiz = stopwords.words('turkish')\n",
        "print(noktalama)\n",
        "print(etkisiz)"
      ],
      "execution_count": null,
      "outputs": [
        {
          "output_type": "stream",
          "text": [
            "[nltk_data] Downloading package stopwords to /root/nltk_data...\n",
            "[nltk_data]   Unzipping corpora/stopwords.zip.\n",
            "!\"#$%&'()*+,-./:;<=>?@[\\]^_`{|}~\n",
            "['acaba', 'ama', 'aslında', 'az', 'bazı', 'belki', 'biri', 'birkaç', 'birşey', 'biz', 'bu', 'çok', 'çünkü', 'da', 'daha', 'de', 'defa', 'diye', 'eğer', 'en', 'gibi', 'hem', 'hep', 'hepsi', 'her', 'hiç', 'için', 'ile', 'ise', 'kez', 'ki', 'kim', 'mı', 'mu', 'mü', 'nasıl', 'ne', 'neden', 'nerde', 'nerede', 'nereye', 'niçin', 'niye', 'o', 'sanki', 'şey', 'siz', 'şu', 'tüm', 've', 'veya', 'ya', 'yani']\n"
          ],
          "name": "stdout"
        }
      ]
    },
    {
      "cell_type": "code",
      "metadata": {
        "id": "O1Nd5Fv0ejCz",
        "colab": {
          "base_uri": "https://localhost:8080/"
        },
        "outputId": "03df1f0c-d497-417b-803a-4643fe3197d8"
      },
      "source": [
        "for d in data['beklentimin altında bir ürün kaliteli değil'].head():\n",
        "  print(d+ '\\n------------------------------')\n",
        "  # Etkisiz kelimeleri atmak\n",
        "  temp= ''\n",
        "  for word in d.split():\n",
        "    if word not in etkisiz and not word.isnumeric():\n",
        "        temp += word + ''\n",
        "  print(temp+ '\\n********************')"
      ],
      "execution_count": null,
      "outputs": [
        {
          "output_type": "stream",
          "text": [
            "ford focus 2 aracıma tam oldu fakat ip kısa kalıyor.şu ipi 1-2 metre daha uzun yollayın.yarım kaldı ve aynı ipten bulamıyorum bir türlü.dolayısı ile işe yaradı diyemiyorum.\n",
            "------------------------------\n",
            "fordfocusaracımatamoldufakatipkısakalıyor.şuipi1-2metreuzunyollayın.yarımkaldıaynıiptenbulamıyorumbirtürlü.dolayısıişeyaradıdiyemiyorum.\n",
            "********************\n",
            "gelen ürün görseldeki gibi değildi,beyaz makyaj pamuğu kadar bir top ve ucunda 3 tane ipten ibaretti.\n",
            "------------------------------\n",
            "gelenürüngörseldekideğildi,beyazmakyajpamuğukadarbirtopucundataneiptenibaretti.\n",
            "********************\n",
            "ürün güzel şık. resimdeki renkler ile ilgisi yok koyu renk ve resimdekilerden daha güzel. siyahı tavsiye ederim.\n",
            "------------------------------\n",
            "ürüngüzelşık.resimdekirenklerilgisiyokkoyurenkresimdekilerdengüzel.siyahıtavsiyeederim.\n",
            "********************\n",
            "arka koltuk icin ford fiestaya eni dar geldi.\n",
            "------------------------------\n",
            "arkakoltukicinfordfiestayaenidargeldi.\n",
            "********************\n",
            "ürün yeni aldım. birkaç kez kullandım. yumurta delme iğnesi hemen içine göçtü. pişirme olayında da sıcak su eklemek lazım değilse istediğin seçenek olmuyor,mesela katı yumurta istiyorsun, cıvık oluyor. aldıktan sonra almasa mı idim dedim. yani iş görüyor amma, çok lüzumlu bir cihaz değil. kullanma klavuzu da detaylı anlatmıyor.\n",
            "------------------------------\n",
            "ürünyenialdım.kullandım.yumurtadelmeiğnesihemeniçinegöçtü.pişirmeolayındasıcaksueklemeklazımdeğilseistediğinseçenekolmuyor,meselakatıyumurtaistiyorsun,cıvıkoluyor.aldıktansonraalmasaidimdedim.işgörüyoramma,lüzumlubircihazdeğil.kullanmaklavuzudetaylıanlatmıyor.\n",
            "********************\n"
          ],
          "name": "stdout"
        }
      ]
    },
    {
      "cell_type": "markdown",
      "metadata": {
        "id": "Dk5ptSxCfiSI"
      },
      "source": [
        "Noktalama işaretleri silme"
      ]
    },
    {
      "cell_type": "code",
      "metadata": {
        "id": "g6Lio928fZ9C",
        "colab": {
          "base_uri": "https://localhost:8080/"
        },
        "outputId": "72556964-86b1-48e5-f750-8db41237bb96"
      },
      "source": [
        "for d in data['beklentimin altında bir ürün kaliteli değil'].head():\n",
        "  print(d+ '\\n------------------------------')\n",
        "  # Noktalama işaretleri atma\n",
        "  temp= ''\n",
        "  for word in d:\n",
        "    if word not in noktalama:\n",
        "        temp += word\n",
        "  print(temp+ '\\n********************')\n",
        "  d= temp"
      ],
      "execution_count": null,
      "outputs": [
        {
          "output_type": "stream",
          "text": [
            "ford focus 2 aracıma tam oldu fakat ip kısa kalıyor.şu ipi 1-2 metre daha uzun yollayın.yarım kaldı ve aynı ipten bulamıyorum bir türlü.dolayısı ile işe yaradı diyemiyorum.\n",
            "------------------------------\n",
            "ford focus 2 aracıma tam oldu fakat ip kısa kalıyorşu ipi 12 metre daha uzun yollayınyarım kaldı ve aynı ipten bulamıyorum bir türlüdolayısı ile işe yaradı diyemiyorum\n",
            "********************\n",
            "gelen ürün görseldeki gibi değildi,beyaz makyaj pamuğu kadar bir top ve ucunda 3 tane ipten ibaretti.\n",
            "------------------------------\n",
            "gelen ürün görseldeki gibi değildibeyaz makyaj pamuğu kadar bir top ve ucunda 3 tane ipten ibaretti\n",
            "********************\n",
            "ürün güzel şık. resimdeki renkler ile ilgisi yok koyu renk ve resimdekilerden daha güzel. siyahı tavsiye ederim.\n",
            "------------------------------\n",
            "ürün güzel şık resimdeki renkler ile ilgisi yok koyu renk ve resimdekilerden daha güzel siyahı tavsiye ederim\n",
            "********************\n",
            "arka koltuk icin ford fiestaya eni dar geldi.\n",
            "------------------------------\n",
            "arka koltuk icin ford fiestaya eni dar geldi\n",
            "********************\n",
            "ürün yeni aldım. birkaç kez kullandım. yumurta delme iğnesi hemen içine göçtü. pişirme olayında da sıcak su eklemek lazım değilse istediğin seçenek olmuyor,mesela katı yumurta istiyorsun, cıvık oluyor. aldıktan sonra almasa mı idim dedim. yani iş görüyor amma, çok lüzumlu bir cihaz değil. kullanma klavuzu da detaylı anlatmıyor.\n",
            "------------------------------\n",
            "ürün yeni aldım birkaç kez kullandım yumurta delme iğnesi hemen içine göçtü pişirme olayında da sıcak su eklemek lazım değilse istediğin seçenek olmuyormesela katı yumurta istiyorsun cıvık oluyor aldıktan sonra almasa mı idim dedim yani iş görüyor amma çok lüzumlu bir cihaz değil kullanma klavuzu da detaylı anlatmıyor\n",
            "********************\n"
          ],
          "name": "stdout"
        }
      ]
    },
    {
      "cell_type": "markdown",
      "metadata": {
        "id": "yqJrRreFgJak"
      },
      "source": [
        "Verileri kayıt etme"
      ]
    },
    {
      "cell_type": "code",
      "metadata": {
        "id": "c9PLLNG7gMMq"
      },
      "source": [
        "data.to_csv(r'/content/drive/Colab Notebooks/Hepsiburadaveri/cleaned.csv',index=False)\n"
      ],
      "execution_count": null,
      "outputs": []
    },
    {
      "cell_type": "code",
      "metadata": {
        "id": "x4PcTwkAOEjh"
      },
      "source": [
        ""
      ],
      "execution_count": null,
      "outputs": []
    },
    {
      "cell_type": "markdown",
      "metadata": {
        "id": "YxoZlRZvgXLE"
      },
      "source": [
        "# Arındılımış veri yükleme"
      ]
    },
    {
      "cell_type": "code",
      "metadata": {
        "id": "quu2zIh_gblk",
        "colab": {
          "base_uri": "https://localhost:8080/"
        },
        "outputId": "cd97c2d4-0b45-4436-a075-beab09819fef"
      },
      "source": [
        "import pandas as pd\n",
        "data = pd.read_csv('/content/drive/Colab Notebooks/Hepsiburadaveri/cleaned.csv', sep=\",\", names=['review', 'label'])\n",
        "print(data.head())"
      ],
      "execution_count": null,
      "outputs": [
        {
          "output_type": "stream",
          "text": [
            "                                              review  label\n",
            "0                                             review  label\n",
            "1        beklentimin altında bir ürün kaliteli değil    NaN\n",
            "2  ford focus 2 aracıma tam oldu fakat ip kısa ka...    NaN\n",
            "3  gelen ürün görseldeki gibi değildi,beyaz makya...    NaN\n",
            "4  ürün güzel şık. resimdeki renkler ile ilgisi y...    NaN\n"
          ],
          "name": "stdout"
        }
      ]
    },
    {
      "cell_type": "code",
      "metadata": {
        "id": "8-tKMfhbN5dM"
      },
      "source": [
        "from sklearn.feature_extraction.text import CountVectorizer\n",
        "cv = CountVectorizer(max_features = 100)\n"
      ],
      "execution_count": null,
      "outputs": []
    },
    {
      "cell_type": "markdown",
      "metadata": {
        "id": "7K85PkWahB3e"
      },
      "source": [
        "# Veri Setini Bölme"
      ]
    },
    {
      "cell_type": "code",
      "metadata": {
        "id": "GGOpArFKhGip",
        "colab": {
          "base_uri": "https://localhost:8080/"
        },
        "outputId": "a0ccef8c-3bd9-4ff4-b649-518c98171f1a"
      },
      "source": [
        "# Arındırılmış veriyi train ve test kümelerine ayırıyoruz\n",
        "from sklearn.model_selection import train_test_split\n",
        "# Eğitim ve test olarak ayıracağız. train=eğitim, test=test\n",
        "X_train, X_test, y_train, y_test = train_test_split(data['review'].values.astype('U'),data['label'].values.astype('U'), test_size=0.1, random_state=42)\n",
        "print(X_train.shape)\n",
        "#print(Xtest.shape)                                                                      "
      ],
      "execution_count": null,
      "outputs": [
        {
          "output_type": "stream",
          "text": [
            "(13392,)\n"
          ],
          "name": "stdout"
        }
      ]
    },
    {
      "cell_type": "markdown",
      "metadata": {
        "id": "BVWhe7L-iyPL"
      },
      "source": [
        "# Sayma Vektörü Oluşturma"
      ]
    },
    {
      "cell_type": "code",
      "metadata": {
        "id": "L240iVh4i3w3",
        "colab": {
          "base_uri": "https://localhost:8080/"
        },
        "outputId": "e81d06bc-6b42-4337-a794-a4b2d7a609c6"
      },
      "source": [
        "# Train kümesindeki cümlelerin sayma vektöelerini çıkarıyoruz\n",
        "from sklearn.feature_extraction.text import CountVectorizer\n",
        "count_vect = CountVectorizer()\n",
        "X_train_counts = count_vect.fit_transform(X_train)\n",
        "print(X_train_counts.shape)"
      ],
      "execution_count": null,
      "outputs": [
        {
          "output_type": "stream",
          "text": [
            "(13392, 42433)\n"
          ],
          "name": "stdout"
        }
      ]
    },
    {
      "cell_type": "markdown",
      "metadata": {
        "id": "dYsV5t0_jtzn"
      },
      "source": [
        "Tf*Idf vektörü oluşturma\n",
        "sadece o yoruma özgü(temsil edecek kelimler olmalı)"
      ]
    },
    {
      "cell_type": "code",
      "metadata": {
        "id": "u7dsCDf3kLHD",
        "colab": {
          "base_uri": "https://localhost:8080/"
        },
        "outputId": "ec862d15-14cd-4b7e-c79d-f8f4e22ef984"
      },
      "source": [
        "# Train kümesindeki cümlelerin TF*IDF vektörlerini sayma vekttörlerinden oluşturuyoruz\n",
        "# Tf= terim sıklığı, IDF= bir kelimenin dökümanda kaç kere geçtiği\n",
        "# TF*IDF bütün olarak; bir kelimenin bir döküman içinde ki önemini gösterir\n",
        "from sklearn.feature_extraction.text import TfidfTransformer\n",
        "tfidf_transformer = TfidfTransformer()\n",
        "X_train_tfidf = tfidf_transformer.fit_transform(X_train_counts)\n",
        "print(X_train_tfidf.shape)"
      ],
      "execution_count": null,
      "outputs": [
        {
          "output_type": "stream",
          "text": [
            "(13392, 42433)\n"
          ],
          "name": "stdout"
        }
      ]
    },
    {
      "cell_type": "markdown",
      "metadata": {
        "id": "apGO4mwemsc-"
      },
      "source": [
        "# Naive Bayes Model Eğitimi"
      ]
    },
    {
      "cell_type": "code",
      "metadata": {
        "id": "u174F8Plmxi9"
      },
      "source": [
        "# Çok modlu Naive Bayes Sınıflandırıcısı eğitiyoruz\n",
        "from sklearn.naive_bayes import MultinomialNB\n",
        "clf = MultinomialNB().fit(X_train_tfidf, y_train)\n",
        "X_test_counts = count_vect.transform(X_test)\n",
        "X_test_tfidf = tfidf_transformer.transform(X_test_counts)"
      ],
      "execution_count": null,
      "outputs": []
    },
    {
      "cell_type": "markdown",
      "metadata": {
        "id": "C30yCmPUouhZ"
      },
      "source": [
        "# Model Performansı Ölçme"
      ]
    },
    {
      "cell_type": "code",
      "metadata": {
        "id": "KScgpFDQmxkW",
        "colab": {
          "base_uri": "https://localhost:8080/"
        },
        "outputId": "3eb1399c-5af1-4e42-c114-811f6f5ab433"
      },
      "source": [
        "# Sınıflandırıcı ile test seti üzerindeki tahminleme yapıyoruz\n",
        "y_pred = clf.predict(X_test_tfidf)\n",
        "for review, sentiment in zip(X_test[:5], y_pred[:]):\n",
        "  print('%r => %s' % (review, sentiment))"
      ],
      "execution_count": null,
      "outputs": [
        {
          "output_type": "stream",
          "text": [
            "'yine de hayatınızdaki özel kişi için güzel bir koku sunarsınız... parfümle yanınınzdan geçen insanları etklieyemeyi düşünmeyin..kokusu hafif..' => nan\n",
            "'cam kalitesi çok düşük. .çizikler çok rahatsız ediyor' => nan\n",
            "'cihaz zamanında elime ulaştı ve ıphone telefonumu 6 defa şarj edebiliyorum ancak cihaz diğer cihazlara göre oldukça ağır bunu göz önünde bulundurmanızı tavsiye ediyorum.' => nan\n",
            "'kurulumu basit. suntaları kalitesiz. derinliği çok az, içine takım elbise astığınızda kapıyı zorluyor. ufak bir dolap, rengi görseldeki gibi bej değil bildiğiniz bembeyaz banyo dolabı gibi. öğrenciler ya da bayanlar için ideal olabilir.' => nan\n",
            "'bildirim ışığı yok telefonun ekranı açmazsanız bildirim gelip gelmediğini anlama ihtimaliniz yok.' => nan\n"
          ],
          "name": "stdout"
        }
      ]
    },
    {
      "cell_type": "markdown",
      "metadata": {
        "id": "0Hsq9LjSp27Q"
      },
      "source": [
        "Test Sonuçları"
      ]
    },
    {
      "cell_type": "code",
      "metadata": {
        "id": "92g5HmF_p695",
        "colab": {
          "base_uri": "https://localhost:8080/"
        },
        "outputId": "8892be7a-00df-4f0d-dd93-00858653d159"
      },
      "source": [
        "# Performans sonuçları\n",
        "from sklearn.metrics import accuracy_score\n",
        "print(accuracy_score(y_test, y_pred))"
      ],
      "execution_count": null,
      "outputs": [
        {
          "output_type": "stream",
          "text": [
            "1.0\n"
          ],
          "name": "stdout"
        }
      ]
    },
    {
      "cell_type": "code",
      "metadata": {
        "id": "HIfpnmdrp6_a"
      },
      "source": [
        ""
      ],
      "execution_count": null,
      "outputs": []
    }
  ]
}